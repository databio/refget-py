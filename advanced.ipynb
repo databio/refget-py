{
 "cells": [
  {
   "cell_type": "markdown",
   "metadata": {},
   "source": [
    "# refget-py tutorial"
   ]
  },
  {
   "cell_type": "code",
   "execution_count": 1,
   "metadata": {},
   "outputs": [],
   "source": [
    "import refget\n",
    "from refget import trunc512_digest"
   ]
  },
  {
   "cell_type": "code",
   "execution_count": 2,
   "metadata": {},
   "outputs": [],
   "source": [
    "rgdb = refget.RefDB(refget.RedisDict())"
   ]
  },
  {
   "cell_type": "markdown",
   "metadata": {},
   "source": [
    "## Comparing sequence collections\n",
    "\n",
    "We may be interested in if collections have the same sequences in different order, or with different names. The `compare` function can provide this information. Let's load an example that adds another sequence:"
   ]
  },
  {
   "cell_type": "code",
   "execution_count": 3,
   "metadata": {},
   "outputs": [],
   "source": [
    "fa_file = \"demo_fasta/demo.fa\"\n",
    "checksum, content = rgdb.load_fasta(fa_file)"
   ]
  },
  {
   "cell_type": "code",
   "execution_count": 4,
   "metadata": {},
   "outputs": [],
   "source": [
    "fa_file = \"demo_fasta/demo2.fa\"\n",
    "checksum2, content2 = rgdb.load_fasta(fa_file)"
   ]
  },
  {
   "cell_type": "code",
   "execution_count": 5,
   "metadata": {},
   "outputs": [
    {
     "data": {
      "text/plain": [
       "OrderedDict([('chr1', 'ACGT'), ('chr2', 'TCGA'), ('chrX', 'TTCCGGAA')])"
      ]
     },
     "execution_count": 5,
     "metadata": {},
     "output_type": "execute_result"
    }
   ],
   "source": [
    "rgdb.refget(checksum2)"
   ]
  },
  {
   "cell_type": "code",
   "execution_count": 6,
   "metadata": {},
   "outputs": [
    {
     "data": {
      "text/plain": [
       "OrderedDict([('chr1', 'ACGT'), ('chr2', 'TCGA')])"
      ]
     },
     "execution_count": 6,
     "metadata": {},
     "output_type": "execute_result"
    }
   ],
   "source": [
    "rgdb.refget(checksum)"
   ]
  },
  {
   "cell_type": "code",
   "execution_count": 7,
   "metadata": {},
   "outputs": [
    {
     "data": {
      "text/plain": [
       "'A is a sequence-level subset of B'"
      ]
     },
     "execution_count": 7,
     "metadata": {},
     "output_type": "execute_result"
    }
   ],
   "source": [
    "rgdb.compare(checksum, checksum2)"
   ]
  },
  {
   "cell_type": "code",
   "execution_count": 8,
   "metadata": {},
   "outputs": [
    {
     "data": {
      "text/plain": [
       "OrderedDict([('chr1', 'ACGT'), ('chrX', 'TTCCGGAA')])"
      ]
     },
     "execution_count": 8,
     "metadata": {},
     "output_type": "execute_result"
    }
   ],
   "source": [
    "fa_file = \"demo_fasta/demo3.fa\"\n",
    "checksum3, content3 = rgdb.load_fasta(fa_file)\n",
    "rgdb.refget(checksum3)"
   ]
  },
  {
   "cell_type": "code",
   "execution_count": 9,
   "metadata": {},
   "outputs": [
    {
     "data": {
      "text/plain": [
       "'A and B share some sequences'"
      ]
     },
     "execution_count": 9,
     "metadata": {},
     "output_type": "execute_result"
    }
   ],
   "source": [
    "rgdb.compare(checksum, checksum3)"
   ]
  },
  {
   "cell_type": "code",
   "execution_count": 10,
   "metadata": {},
   "outputs": [
    {
     "data": {
      "text/plain": [
       "OrderedDict([('chrX', 'TTCCGGAA')])"
      ]
     },
     "execution_count": 10,
     "metadata": {},
     "output_type": "execute_result"
    }
   ],
   "source": [
    "fa_file = \"demo_fasta/demo4.fa\"\n",
    "checksum4, content4 = rgdb.load_fasta(fa_file)\n",
    "rgdb.refget(checksum4)"
   ]
  },
  {
   "cell_type": "code",
   "execution_count": 11,
   "metadata": {},
   "outputs": [
    {
     "data": {
      "text/plain": [
       "'No sequences shared'"
      ]
     },
     "execution_count": 11,
     "metadata": {},
     "output_type": "execute_result"
    }
   ],
   "source": [
    "rgdb.compare(checksum, checksum4)"
   ]
  },
  {
   "cell_type": "code",
   "execution_count": 12,
   "metadata": {},
   "outputs": [
    {
     "data": {
      "text/plain": [
       "'B is a sequence-level subset of A'"
      ]
     },
     "execution_count": 12,
     "metadata": {},
     "output_type": "execute_result"
    }
   ],
   "source": [
    "rgdb.compare(checksum2, checksum4)"
   ]
  },
  {
   "cell_type": "code",
   "execution_count": 13,
   "metadata": {},
   "outputs": [
    {
     "data": {
      "text/plain": [
       "OrderedDict([('chrX', 'TTCCGGAA'), ('chr1', 'ACGT')])"
      ]
     },
     "execution_count": 13,
     "metadata": {},
     "output_type": "execute_result"
    }
   ],
   "source": [
    "fa_file = \"demo_fasta/demo5.fa\"\n",
    "checksum5, content5 = rgdb.load_fasta(fa_file)\n",
    "rgdb.refget(checksum5)"
   ]
  },
  {
   "cell_type": "code",
   "execution_count": 14,
   "metadata": {},
   "outputs": [
    {
     "data": {
      "text/plain": [
       "'A and B share some sequences'"
      ]
     },
     "execution_count": 14,
     "metadata": {},
     "output_type": "execute_result"
    }
   ],
   "source": [
    "rgdb.compare(checksum, checksum5)"
   ]
  },
  {
   "cell_type": "code",
   "execution_count": 15,
   "metadata": {},
   "outputs": [
    {
     "data": {
      "text/plain": [
       "'Sequence-level identical, order mismatch'"
      ]
     },
     "execution_count": 15,
     "metadata": {},
     "output_type": "execute_result"
    }
   ],
   "source": [
    "rgdb.compare(checksum3, checksum5)"
   ]
  },
  {
   "cell_type": "code",
   "execution_count": 16,
   "metadata": {},
   "outputs": [
    {
     "data": {
      "text/plain": [
       "OrderedDict([('1', 'ACGT'), ('2', 'TCGA'), ('X', 'TTCCGGAA')])"
      ]
     },
     "execution_count": 16,
     "metadata": {},
     "output_type": "execute_result"
    }
   ],
   "source": [
    "fa_file = \"demo_fasta/demo6.fa\"\n",
    "checksum6, content6 = rgdb.load_fasta(fa_file)\n",
    "rgdb.refget(checksum6)"
   ]
  },
  {
   "cell_type": "code",
   "execution_count": 17,
   "metadata": {},
   "outputs": [
    {
     "data": {
      "text/plain": [
       "'Sequence-level identical, names mismatch'"
      ]
     },
     "execution_count": 17,
     "metadata": {},
     "output_type": "execute_result"
    }
   ],
   "source": [
    "rgdb.compare(checksum2, checksum6)"
   ]
  },
  {
   "cell_type": "markdown",
   "metadata": {},
   "source": [
    "# 3-layer refget\n",
    "\n",
    "Yes, you can also continue this recursion indefinitely. To demonstrate, let's make a sequence that consists of these 2 fasta files checksums, and load that into the database."
   ]
  },
  {
   "cell_type": "code",
   "execution_count": 18,
   "metadata": {},
   "outputs": [
    {
     "data": {
      "text/plain": [
       "'demo1:fa7f432a0ca2a8bb224562f1c2f091e37937c4b0a5f5acf7;demo2:6f2e5266e233ef82ae4fa15fb621ed2843b19cbb5f099391'"
      ]
     },
     "execution_count": 18,
     "metadata": {},
     "output_type": "execute_result"
    }
   ],
   "source": [
    "layer3seq = \"demo1:{};demo2:{}\".format(checksum, checksum2)\n",
    "layer3seq"
   ]
  },
  {
   "cell_type": "code",
   "execution_count": 19,
   "metadata": {},
   "outputs": [
    {
     "data": {
      "text/plain": [
       "'96b06cb2ef1fd4d8efb6c1d3a2be2415330c8fa77ebafc9d'"
      ]
     },
     "execution_count": 19,
     "metadata": {},
     "output_type": "execute_result"
    }
   ],
   "source": [
    "rgdb.load_seq(layer3seq)"
   ]
  },
  {
   "cell_type": "markdown",
   "metadata": {},
   "source": [
    "Can we retreieve it? You bet! At any recursion level:"
   ]
  },
  {
   "cell_type": "code",
   "execution_count": 20,
   "metadata": {},
   "outputs": [
    {
     "data": {
      "text/plain": [
       "OrderedDict([('demo1', OrderedDict([('chr1', 'ACGT'), ('chr2', 'TCGA')])),\n",
       "             ('demo2',\n",
       "              OrderedDict([('chr1', 'ACGT'),\n",
       "                           ('chr2', 'TCGA'),\n",
       "                           ('chrX', 'TTCCGGAA')]))])"
      ]
     },
     "execution_count": 20,
     "metadata": {},
     "output_type": "execute_result"
    }
   ],
   "source": [
    "rgdb.refget(\"96b06cb2ef1fd4d8efb6c1d3a2be2415330c8fa77ebafc9d\")"
   ]
  },
  {
   "cell_type": "code",
   "execution_count": 21,
   "metadata": {},
   "outputs": [
    {
     "data": {
      "text/plain": [
       "OrderedDict([('demo1', 'fa7f432a0ca2a8bb224562f1c2f091e37937c4b0a5f5acf7'),\n",
       "             ('demo2', '6f2e5266e233ef82ae4fa15fb621ed2843b19cbb5f099391')])"
      ]
     },
     "execution_count": 21,
     "metadata": {},
     "output_type": "execute_result"
    }
   ],
   "source": [
    "rgdb.refget(\"96b06cb2ef1fd4d8efb6c1d3a2be2415330c8fa77ebafc9d\", reclimit=1)"
   ]
  },
  {
   "cell_type": "code",
   "execution_count": 22,
   "metadata": {},
   "outputs": [
    {
     "data": {
      "text/plain": [
       "OrderedDict([('demo1',\n",
       "              OrderedDict([('chr1',\n",
       "                            '68a178f7c740c5c240aa67ba41843b119d3bf9f8b0f0ac36'),\n",
       "                           ('chr2',\n",
       "                            '3912dddce432f3085c6b4f72a644c4c4c73f07215a9679ce')])),\n",
       "             ('demo2',\n",
       "              OrderedDict([('chr1',\n",
       "                            '68a178f7c740c5c240aa67ba41843b119d3bf9f8b0f0ac36'),\n",
       "                           ('chr2',\n",
       "                            '3912dddce432f3085c6b4f72a644c4c4c73f07215a9679ce'),\n",
       "                           ('chrX',\n",
       "                            'ef7dd6215b2dabc81d0a5eb0f0d84a739b0674de92679f88')]))])"
      ]
     },
     "execution_count": 22,
     "metadata": {},
     "output_type": "execute_result"
    }
   ],
   "source": [
    "rgdb.refget(\"96b06cb2ef1fd4d8efb6c1d3a2be2415330c8fa77ebafc9d\", reclimit=2)"
   ]
  }
 ],
 "metadata": {
  "kernelspec": {
   "display_name": "Python 3",
   "language": "python",
   "name": "python3"
  },
  "language_info": {
   "codemirror_mode": {
    "name": "ipython",
    "version": 3
   },
   "file_extension": ".py",
   "mimetype": "text/x-python",
   "name": "python",
   "nbconvert_exporter": "python",
   "pygments_lexer": "ipython3",
   "version": "3.7.3"
  }
 },
 "nbformat": 4,
 "nbformat_minor": 2
}
