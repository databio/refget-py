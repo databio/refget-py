{
 "cells": [
  {
   "cell_type": "markdown",
   "metadata": {},
   "source": [
    "# refget-py tutorial"
   ]
  },
  {
   "cell_type": "code",
   "execution_count": 1,
   "metadata": {},
   "outputs": [
    {
     "data": {
      "text/plain": [
       "'3.7.6'"
      ]
     },
     "execution_count": 1,
     "metadata": {},
     "output_type": "execute_result"
    }
   ],
   "source": [
    "import refget\n",
    "from refget import trunc512_digest\n",
    "from platform import python_version \n",
    "python_version()"
   ]
  },
  {
   "cell_type": "code",
   "execution_count": 2,
   "metadata": {},
   "outputs": [],
   "source": [
    "# rgdb = refget.RefDB(refget.RedisDict())"
   ]
  },
  {
   "cell_type": "code",
   "execution_count": 3,
   "metadata": {},
   "outputs": [],
   "source": [
    "rgdb = refget.RefDB(refget.MongoDict(host='localhost', port=27017, database='my_dict',\n",
    "                        collection='store'))"
   ]
  },
  {
   "cell_type": "code",
   "execution_count": 4,
   "metadata": {},
   "outputs": [
    {
     "data": {
      "text/plain": [
       "<refget.refget.RefDB at 0x7f51ac3091d0>"
      ]
     },
     "execution_count": 4,
     "metadata": {},
     "output_type": "execute_result"
    }
   ],
   "source": [
    "rgdb"
   ]
  },
  {
   "cell_type": "markdown",
   "metadata": {},
   "source": [
    "## Comparing sequence collections\n",
    "\n",
    "We may be interested in if collections have the same sequences in different order, or with different names. The `compare` function can provide this information. Let's load an example that adds another sequence:"
   ]
  },
  {
   "cell_type": "code",
   "execution_count": 5,
   "metadata": {},
   "outputs": [],
   "source": [
    "fa_file = \"demo_fasta/demo.fa\"\n",
    "checksum, content = rgdb.load_fasta(fa_file)"
   ]
  },
  {
   "cell_type": "code",
   "execution_count": 6,
   "metadata": {},
   "outputs": [],
   "source": [
    "fa_file = \"demo_fasta/demo2.fa\"\n",
    "checksum2, content2 = rgdb.load_fasta(fa_file)"
   ]
  },
  {
   "cell_type": "code",
   "execution_count": 7,
   "metadata": {},
   "outputs": [
    {
     "data": {
      "text/plain": [
       "{'chr1': {'length': 4,\n",
       "  'seq': '68a178f7c740c5c240aa67ba41843b119d3bf9f8b0f0ac36'},\n",
       " 'chr2': {'length': 4,\n",
       "  'seq': '3912dddce432f3085c6b4f72a644c4c4c73f07215a9679ce'},\n",
       " 'chrX': {'length': 8,\n",
       "  'seq': 'ef7dd6215b2dabc81d0a5eb0f0d84a739b0674de92679f88'}}"
      ]
     },
     "execution_count": 7,
     "metadata": {},
     "output_type": "execute_result"
    }
   ],
   "source": [
    "content2"
   ]
  },
  {
   "cell_type": "code",
   "execution_count": 8,
   "metadata": {},
   "outputs": [
    {
     "data": {
      "text/plain": [
       "OrderedDict([('chr1', {'length': '4', 'seq': 'ACGT'}),\n",
       "             ('chr2', {'length': '4', 'seq': 'TCGA'}),\n",
       "             ('chrX', {'length': '8', 'seq': 'TTCCGGAA'})])"
      ]
     },
     "execution_count": 8,
     "metadata": {},
     "output_type": "execute_result"
    }
   ],
   "source": [
    "rgdb.refget(checksum2)"
   ]
  },
  {
   "cell_type": "code",
   "execution_count": 9,
   "metadata": {},
   "outputs": [
    {
     "ename": "AttributeError",
     "evalue": "'collections.OrderedDict' object has no attribute 'split'",
     "output_type": "error",
     "traceback": [
      "\u001b[0;31m---------------------------------------------------------------------------\u001b[0m",
      "\u001b[0;31mAttributeError\u001b[0m                            Traceback (most recent call last)",
      "\u001b[0;32m<ipython-input-9-f7c78320cb49>\u001b[0m in \u001b[0;36m<module>\u001b[0;34m\u001b[0m\n\u001b[1;32m      3\u001b[0m \u001b[0mDELIM_LVL3\u001b[0m \u001b[0;34m=\u001b[0m \u001b[0;34mu\"\\u2980\"\u001b[0m\u001b[0;34m\u001b[0m\u001b[0;34m\u001b[0m\u001b[0m\n\u001b[1;32m      4\u001b[0m \u001b[0mx\u001b[0m\u001b[0;34m=\u001b[0m\u001b[0mrgdb\u001b[0m\u001b[0;34m.\u001b[0m\u001b[0mrefget\u001b[0m\u001b[0;34m(\u001b[0m\u001b[0mchecksum2\u001b[0m\u001b[0;34m)\u001b[0m\u001b[0;34m\u001b[0m\u001b[0;34m\u001b[0m\u001b[0m\n\u001b[0;32m----> 5\u001b[0;31m \u001b[0mx\u001b[0m\u001b[0;34m.\u001b[0m\u001b[0msplit\u001b[0m\u001b[0;34m(\u001b[0m\u001b[0mDELIM_LVL3\u001b[0m\u001b[0;34m)\u001b[0m\u001b[0;34m\u001b[0m\u001b[0;34m\u001b[0m\u001b[0m\n\u001b[0m",
      "\u001b[0;31mAttributeError\u001b[0m: 'collections.OrderedDict' object has no attribute 'split'"
     ]
    }
   ],
   "source": [
    "DELIM_LVL1 = u\"\\u00B7\"\n",
    "DELIM_LVL2 = u\"\\u2016\"\n",
    "DELIM_LVL3 = u\"\\u2980\"\n",
    "x=rgdb.refget(checksum2)\n",
    "x.split(DELIM_LVL3)"
   ]
  },
  {
   "cell_type": "code",
   "execution_count": 10,
   "metadata": {},
   "outputs": [
    {
     "data": {
      "text/plain": [
       "OrderedDict([('chr1', {'length': '4', 'seq': 'ACGT'}),\n",
       "             ('chr2', {'length': '4', 'seq': 'TCGA'})])"
      ]
     },
     "execution_count": 10,
     "metadata": {},
     "output_type": "execute_result"
    }
   ],
   "source": [
    "rgdb.refget(checksum)"
   ]
  },
  {
   "cell_type": "code",
   "execution_count": 11,
   "metadata": {},
   "outputs": [
    {
     "data": {
      "text/plain": [
       "'A is a sequence-level subset of B'"
      ]
     },
     "execution_count": 11,
     "metadata": {},
     "output_type": "execute_result"
    }
   ],
   "source": [
    "rgdb.compare(checksum, checksum2)"
   ]
  },
  {
   "cell_type": "code",
   "execution_count": 12,
   "metadata": {},
   "outputs": [
    {
     "data": {
      "text/plain": [
       "OrderedDict([('chr1', {'length': '4', 'seq': 'ACGT'}),\n",
       "             ('chrX', {'length': '8', 'seq': 'TTCCGGAA'})])"
      ]
     },
     "execution_count": 12,
     "metadata": {},
     "output_type": "execute_result"
    }
   ],
   "source": [
    "fa_file = \"demo_fasta/demo3.fa\"\n",
    "checksum3, content3 = rgdb.load_fasta(fa_file)\n",
    "rgdb.refget(checksum3)"
   ]
  },
  {
   "cell_type": "code",
   "execution_count": 13,
   "metadata": {},
   "outputs": [
    {
     "data": {
      "text/plain": [
       "'A and B share some sequences'"
      ]
     },
     "execution_count": 13,
     "metadata": {},
     "output_type": "execute_result"
    }
   ],
   "source": [
    "rgdb.compare(checksum, checksum3)"
   ]
  },
  {
   "cell_type": "code",
   "execution_count": 14,
   "metadata": {},
   "outputs": [
    {
     "data": {
      "text/plain": [
       "OrderedDict([('chrX', {'length': '8', 'seq': 'TTCCGGAA'})])"
      ]
     },
     "execution_count": 14,
     "metadata": {},
     "output_type": "execute_result"
    }
   ],
   "source": [
    "fa_file = \"demo_fasta/demo4.fa\"\n",
    "checksum4, content4 = rgdb.load_fasta(fa_file)\n",
    "rgdb.refget(checksum4)"
   ]
  },
  {
   "cell_type": "code",
   "execution_count": 15,
   "metadata": {},
   "outputs": [
    {
     "data": {
      "text/plain": [
       "'No sequences shared'"
      ]
     },
     "execution_count": 15,
     "metadata": {},
     "output_type": "execute_result"
    }
   ],
   "source": [
    "rgdb.compare(checksum, checksum4)"
   ]
  },
  {
   "cell_type": "code",
   "execution_count": 16,
   "metadata": {},
   "outputs": [
    {
     "data": {
      "text/plain": [
       "'B is a sequence-level subset of A'"
      ]
     },
     "execution_count": 16,
     "metadata": {},
     "output_type": "execute_result"
    }
   ],
   "source": [
    "rgdb.compare(checksum2, checksum4)"
   ]
  },
  {
   "cell_type": "code",
   "execution_count": 17,
   "metadata": {},
   "outputs": [
    {
     "data": {
      "text/plain": [
       "OrderedDict([('chrX', {'length': '8', 'seq': 'TTCCGGAA'}),\n",
       "             ('chr1', {'length': '4', 'seq': 'ACGT'})])"
      ]
     },
     "execution_count": 17,
     "metadata": {},
     "output_type": "execute_result"
    }
   ],
   "source": [
    "fa_file = \"demo_fasta/demo5.fa\"\n",
    "checksum5, content5 = rgdb.load_fasta(fa_file)\n",
    "rgdb.refget(checksum5)"
   ]
  },
  {
   "cell_type": "code",
   "execution_count": 18,
   "metadata": {},
   "outputs": [
    {
     "data": {
      "text/plain": [
       "'A and B share some sequences'"
      ]
     },
     "execution_count": 18,
     "metadata": {},
     "output_type": "execute_result"
    }
   ],
   "source": [
    "rgdb.compare(checksum, checksum5)"
   ]
  },
  {
   "cell_type": "code",
   "execution_count": 19,
   "metadata": {},
   "outputs": [
    {
     "data": {
      "text/plain": [
       "'Sequence-level identical, order mismatch'"
      ]
     },
     "execution_count": 19,
     "metadata": {},
     "output_type": "execute_result"
    }
   ],
   "source": [
    "rgdb.compare(checksum3, checksum5)"
   ]
  },
  {
   "cell_type": "code",
   "execution_count": 20,
   "metadata": {},
   "outputs": [
    {
     "data": {
      "text/plain": [
       "OrderedDict([('1', {'length': '4', 'seq': 'ACGT'}),\n",
       "             ('2', {'length': '4', 'seq': 'TCGA'}),\n",
       "             ('X', {'length': '8', 'seq': 'TTCCGGAA'})])"
      ]
     },
     "execution_count": 20,
     "metadata": {},
     "output_type": "execute_result"
    }
   ],
   "source": [
    "fa_file = \"demo_fasta/demo6.fa\"\n",
    "checksum6, content6 = rgdb.load_fasta(fa_file)\n",
    "rgdb.refget(checksum6)"
   ]
  },
  {
   "cell_type": "code",
   "execution_count": 21,
   "metadata": {},
   "outputs": [
    {
     "data": {
      "text/plain": [
       "'Sequence-level identical, names mismatch'"
      ]
     },
     "execution_count": 21,
     "metadata": {},
     "output_type": "execute_result"
    }
   ],
   "source": [
    "rgdb.compare(checksum2, checksum6)"
   ]
  },
  {
   "cell_type": "code",
   "execution_count": 22,
   "metadata": {},
   "outputs": [
    {
     "data": {
      "text/plain": [
       "OrderedDict([('1', {'length': '4', 'seq': 'AGGG'}),\n",
       "             ('2', {'length': '4', 'seq': 'TGGG'}),\n",
       "             ('X', {'length': '8', 'seq': 'TTCCGGGG'})])"
      ]
     },
     "execution_count": 22,
     "metadata": {},
     "output_type": "execute_result"
    }
   ],
   "source": [
    "fa_file = \"demo_fasta/demo7.fa\"\n",
    "checksum7, content7 = rgdb.load_fasta(fa_file)\n",
    "rgdb.refget(checksum7)"
   ]
  },
  {
   "cell_type": "code",
   "execution_count": 23,
   "metadata": {},
   "outputs": [
    {
     "data": {
      "text/plain": [
       "'No sequences shared'"
      ]
     },
     "execution_count": 23,
     "metadata": {},
     "output_type": "execute_result"
    }
   ],
   "source": [
    "rgdb.compare(checksum6, checksum7)"
   ]
  },
  {
   "cell_type": "code",
   "execution_count": 24,
   "metadata": {},
   "outputs": [
    {
     "data": {
      "text/plain": [
       "[4, 4, 8]"
      ]
     },
     "execution_count": 24,
     "metadata": {},
     "output_type": "execute_result"
    }
   ],
   "source": [
    "[x['length'] for x in content6.values()]\n"
   ]
  },
  {
   "cell_type": "code",
   "execution_count": 25,
   "metadata": {},
   "outputs": [
    {
     "data": {
      "text/plain": [
       "[['1', 4], ['2', 4], ['X', 8]]"
      ]
     },
     "execution_count": 25,
     "metadata": {},
     "output_type": "execute_result"
    }
   ],
   "source": [
    "[[name, val['length']] for name, val in content6.items()]"
   ]
  },
  {
   "cell_type": "markdown",
   "metadata": {},
   "source": [
    "# 3-layer refget\n",
    "\n",
    "Yes, you can also continue this recursion indefinitely. To demonstrate, let's make a sequence that consists of these 2 fasta files checksums, and load that into the database."
   ]
  },
  {
   "cell_type": "code",
   "execution_count": 52,
   "metadata": {},
   "outputs": [
    {
     "data": {
      "text/plain": [
       "'dem\"o:\\'1‖72e94ad00e97f3b46937c5dd02610006dc96cb782ed29cd2⦀demo2‖9f5e7027f4ef9d59a116d3db8446e5a9685213bc475c3abf'"
      ]
     },
     "execution_count": 52,
     "metadata": {},
     "output_type": "execute_result"
    }
   ],
   "source": [
    "DELIM_LVL1 = u\"\\u00B7\"\n",
    "DELIM_LVL2 = u\"\\u2016\"\n",
    "DELIM_LVL3 = u\"\\u2980\"\n",
    "layer3seq = \"dem\\\"o:'1{dl2}{}{dl3}demo2{dl2}{}\".format(checksum, checksum2, dl2=DELIM_LVL2, dl3=DELIM_LVL3)\n",
    "layer3seq"
   ]
  },
  {
   "cell_type": "code",
   "execution_count": 53,
   "metadata": {},
   "outputs": [
    {
     "data": {
      "text/plain": [
       "'3c7e8defcd28a5245c477a59da5a2a9f2bc96e7d55f71601'"
      ]
     },
     "execution_count": 53,
     "metadata": {},
     "output_type": "execute_result"
    }
   ],
   "source": [
    "rgdb.load_seq(layer3seq)"
   ]
  },
  {
   "cell_type": "markdown",
   "metadata": {},
   "source": [
    "Can we retrieve it? You bet! At any recursion level:"
   ]
  },
  {
   "cell_type": "code",
   "execution_count": 54,
   "metadata": {},
   "outputs": [
    {
     "data": {
      "text/plain": [
       "OrderedDict([('dem\"o:\\'1',\n",
       "              {'length': None,\n",
       "               'seq': OrderedDict([('chr1', {'length': '4', 'seq': 'ACGT'}),\n",
       "                            ('chr2', {'length': '4', 'seq': 'TCGA'})])}),\n",
       "             ('demo2',\n",
       "              {'length': None,\n",
       "               'seq': OrderedDict([('chr1', {'length': '4', 'seq': 'ACGT'}),\n",
       "                            ('chr2', {'length': '4', 'seq': 'TCGA'}),\n",
       "                            ('chrX', {'length': '8', 'seq': 'TTCCGGAA'})])})])"
      ]
     },
     "execution_count": 54,
     "metadata": {},
     "output_type": "execute_result"
    }
   ],
   "source": [
    "rgdb.refget(rgdb.load_seq(layer3seq))"
   ]
  },
  {
   "cell_type": "code",
   "execution_count": 36,
   "metadata": {},
   "outputs": [
    {
     "data": {
      "text/plain": [
       "OrderedDict([('demo1',\n",
       "              {'length': None,\n",
       "               'seq': '72e94ad00e97f3b46937c5dd02610006dc96cb782ed29cd2'}),\n",
       "             ('demo2',\n",
       "              {'length': None,\n",
       "               'seq': '9f5e7027f4ef9d59a116d3db8446e5a9685213bc475c3abf'})])"
      ]
     },
     "execution_count": 36,
     "metadata": {},
     "output_type": "execute_result"
    }
   ],
   "source": [
    "rgdb.refget(rgdb.load_seq(layer3seq), reclimit=1)"
   ]
  },
  {
   "cell_type": "code",
   "execution_count": 37,
   "metadata": {},
   "outputs": [
    {
     "data": {
      "text/plain": [
       "OrderedDict([('demo1',\n",
       "              {'length': None,\n",
       "               'seq': OrderedDict([('chr1',\n",
       "                             {'length': '4',\n",
       "                              'seq': '68a178f7c740c5c240aa67ba41843b119d3bf9f8b0f0ac36'}),\n",
       "                            ('chr2',\n",
       "                             {'length': '4',\n",
       "                              'seq': '3912dddce432f3085c6b4f72a644c4c4c73f07215a9679ce'})])}),\n",
       "             ('demo2',\n",
       "              {'length': None,\n",
       "               'seq': OrderedDict([('chr1',\n",
       "                             {'length': '4',\n",
       "                              'seq': '68a178f7c740c5c240aa67ba41843b119d3bf9f8b0f0ac36'}),\n",
       "                            ('chr2',\n",
       "                             {'length': '4',\n",
       "                              'seq': '3912dddce432f3085c6b4f72a644c4c4c73f07215a9679ce'}),\n",
       "                            ('chrX',\n",
       "                             {'length': '8',\n",
       "                              'seq': 'ef7dd6215b2dabc81d0a5eb0f0d84a739b0674de92679f88'})])})])"
      ]
     },
     "execution_count": 37,
     "metadata": {},
     "output_type": "execute_result"
    }
   ],
   "source": [
    "rgdb.refget(rgdb.load_seq(layer3seq), reclimit=2)"
   ]
  },
  {
   "cell_type": "code",
   "execution_count": null,
   "metadata": {},
   "outputs": [],
   "source": []
  },
  {
   "cell_type": "code",
   "execution_count": 38,
   "metadata": {},
   "outputs": [],
   "source": [
    "        contents1 = rgdb.refget(checksum, reclimit=1)\n",
    "        contents2 = rgdb.refget(checksum2, reclimit=1)"
   ]
  },
  {
   "cell_type": "code",
   "execution_count": 13,
   "metadata": {},
   "outputs": [
    {
     "data": {
      "text/plain": [
       "OrderedDict([('chr1',\n",
       "              {'length': '4',\n",
       "               'seq': '68a178f7c740c5c240aa67ba41843b119d3bf9f8b0f0ac36'}),\n",
       "             ('chr2',\n",
       "              {'length': '4',\n",
       "               'seq': '3912dddce432f3085c6b4f72a644c4c4c73f07215a9679ce'})])"
      ]
     },
     "execution_count": 13,
     "metadata": {},
     "output_type": "execute_result"
    }
   ],
   "source": [
    "contents1"
   ]
  },
  {
   "cell_type": "code",
   "execution_count": 14,
   "metadata": {},
   "outputs": [
    {
     "data": {
      "text/plain": [
       "OrderedDict([('chr1',\n",
       "              {'length': '4',\n",
       "               'seq': '68a178f7c740c5c240aa67ba41843b119d3bf9f8b0f0ac36'}),\n",
       "             ('chr2',\n",
       "              {'length': '4',\n",
       "               'seq': '3912dddce432f3085c6b4f72a644c4c4c73f07215a9679ce'}),\n",
       "             ('chrX',\n",
       "              {'length': '8',\n",
       "               'seq': 'ef7dd6215b2dabc81d0a5eb0f0d84a739b0674de92679f88'})])"
      ]
     },
     "execution_count": 14,
     "metadata": {},
     "output_type": "execute_result"
    }
   ],
   "source": [
    "contents2"
   ]
  },
  {
   "cell_type": "code",
   "execution_count": null,
   "metadata": {},
   "outputs": [],
   "source": []
  }
 ],
 "metadata": {
  "kernelspec": {
   "display_name": "py_37_env",
   "language": "python",
   "name": "py_37_env"
  },
  "language_info": {
   "codemirror_mode": {
    "name": "ipython",
    "version": 3
   },
   "file_extension": ".py",
   "mimetype": "text/x-python",
   "name": "python",
   "nbconvert_exporter": "python",
   "pygments_lexer": "ipython3",
   "version": "3.7.6"
  }
 },
 "nbformat": 4,
 "nbformat_minor": 2
}
