{
 "cells": [
  {
   "cell_type": "markdown",
   "metadata": {},
   "source": [
    "# refget-py tutorial"
   ]
  },
  {
   "cell_type": "code",
   "execution_count": 1,
   "metadata": {},
   "outputs": [],
   "source": [
    "import refget\n",
    "from refget import trunc512_digest"
   ]
  },
  {
   "cell_type": "markdown",
   "metadata": {},
   "source": [
    "Show some results for sequence digests:"
   ]
  },
  {
   "cell_type": "code",
   "execution_count": 2,
   "metadata": {},
   "outputs": [
    {
     "data": {
      "text/plain": [
       "'68a178f7c740c5c240aa67ba41843b119d3bf9f8b0f0ac36'"
      ]
     },
     "execution_count": 2,
     "metadata": {},
     "output_type": "execute_result"
    }
   ],
   "source": [
    "trunc512_digest('ACGT')"
   ]
  },
  {
   "cell_type": "code",
   "execution_count": 3,
   "metadata": {},
   "outputs": [
    {
     "data": {
      "text/plain": [
       "'3912dddce432f3085c6b4f72a644c4c4c73f07215a9679ce'"
      ]
     },
     "execution_count": 3,
     "metadata": {},
     "output_type": "execute_result"
    }
   ],
   "source": [
    "trunc512_digest('TCGA')"
   ]
  },
  {
   "cell_type": "code",
   "execution_count": 4,
   "metadata": {},
   "outputs": [
    {
     "data": {
      "text/plain": [
       "'68a178f7c740c5c240aa67ba41843b119d3bf9f8b0f0ac36cf70'"
      ]
     },
     "execution_count": 4,
     "metadata": {},
     "output_type": "execute_result"
    }
   ],
   "source": [
    "trunc512_digest('ACGT', 26)"
   ]
  },
  {
   "cell_type": "markdown",
   "metadata": {},
   "source": [
    "## Use a database\n",
    "\n",
    "Now, instantiate a RefDB object. You have to provide a database where you will store lookup values. For a demo, you can also use a basic dictionary as a lookup database, but this will obviously not persist. \n",
    "\n",
    "Seed our database with a few pre-existing entries:"
   ]
  },
  {
   "cell_type": "code",
   "execution_count": 5,
   "metadata": {},
   "outputs": [],
   "source": [
    "local_lookup_dict = {\n",
    "    trunc512_digest('ACGT'): \"ACGT\",\n",
    "    trunc512_digest('TCGA'): \"TCGA\"\n",
    "}\n",
    "\n",
    "rgdb_local = refget.RefDB(local_lookup_dict)\n"
   ]
  },
  {
   "cell_type": "markdown",
   "metadata": {},
   "source": [
    "Retrieve sequences using the checksum"
   ]
  },
  {
   "cell_type": "code",
   "execution_count": 6,
   "metadata": {},
   "outputs": [
    {
     "data": {
      "text/plain": [
       "'TCGA'"
      ]
     },
     "execution_count": 6,
     "metadata": {},
     "output_type": "execute_result"
    }
   ],
   "source": [
    "rgdb_local.refget(trunc512_digest('TCGA'))"
   ]
  },
  {
   "cell_type": "markdown",
   "metadata": {},
   "source": [
    "We can also add new sequences into the database:"
   ]
  },
  {
   "cell_type": "code",
   "execution_count": 7,
   "metadata": {},
   "outputs": [
    {
     "data": {
      "text/plain": [
       "'Not found'"
      ]
     },
     "execution_count": 7,
     "metadata": {},
     "output_type": "execute_result"
    }
   ],
   "source": [
    "rgdb_local.refget(trunc512_digest('TCGATCGA'))  # This sequence is not found in our database yet"
   ]
  },
  {
   "cell_type": "code",
   "execution_count": 8,
   "metadata": {},
   "outputs": [],
   "source": [
    "checksum = rgdb_local.load_seq(\"TCGATCGA\")  # So, let's add it into database"
   ]
  },
  {
   "cell_type": "code",
   "execution_count": 9,
   "metadata": {},
   "outputs": [
    {
     "data": {
      "text/plain": [
       "'TCGATCGA'"
      ]
     },
     "execution_count": 9,
     "metadata": {},
     "output_type": "execute_result"
    }
   ],
   "source": [
    "rgdb_local.refget(checksum)  # This time it returns"
   ]
  },
  {
   "cell_type": "markdown",
   "metadata": {},
   "source": [
    "## Switching to a Redis back-end\n",
    "Using a dict as a database will not persist. Let's instead use a redis back-end. If you're running a local redis server, you can use that as a back-end. First, start up a server like this:\n",
    "\n",
    "```\n",
    "docker run --rm --network='host' --workdir=\"`pwd`\" redis:5.0.5 redis-server\n",
    "```"
   ]
  },
  {
   "cell_type": "markdown",
   "metadata": {},
   "source": [
    " Then you can instantiate a new RefDB object that uses it like this:"
   ]
  },
  {
   "cell_type": "code",
   "execution_count": 10,
   "metadata": {},
   "outputs": [],
   "source": [
    "rgdb = refget.RefDB(refget.RedisDict())"
   ]
  },
  {
   "cell_type": "markdown",
   "metadata": {},
   "source": [
    "## Database insertion\n",
    "\n",
    "Insert a sequence into the database, then retrieve it via checksum"
   ]
  },
  {
   "cell_type": "code",
   "execution_count": 11,
   "metadata": {},
   "outputs": [
    {
     "data": {
      "text/plain": [
       "'GGAA'"
      ]
     },
     "execution_count": 11,
     "metadata": {},
     "output_type": "execute_result"
    }
   ],
   "source": [
    "checksum = rgdb.load_seq(\"GGAA\")\n",
    "rgdb.refget(checksum)"
   ]
  },
  {
   "cell_type": "markdown",
   "metadata": {},
   "source": [
    "## Insert and retrieve a sequence collection (fasta file)"
   ]
  },
  {
   "cell_type": "code",
   "execution_count": 12,
   "metadata": {},
   "outputs": [],
   "source": [
    "fa_file = \"demo_fasta/demo.fa\"\n",
    "checksum, content = rgdb.load_fasta(fa_file)"
   ]
  },
  {
   "cell_type": "markdown",
   "metadata": {},
   "source": [
    "Here we retrieve all the sequences in the fasta file:"
   ]
  },
  {
   "cell_type": "code",
   "execution_count": 13,
   "metadata": {},
   "outputs": [
    {
     "data": {
      "text/plain": [
       "OrderedDict([('chr1', 'ACGT'), ('chr2', 'TCGA')])"
      ]
     },
     "execution_count": 13,
     "metadata": {},
     "output_type": "execute_result"
    }
   ],
   "source": [
    "rgdb.refget(checksum)"
   ]
  },
  {
   "cell_type": "markdown",
   "metadata": {},
   "source": [
    "If you want it in fasta format there's a helper function for that:"
   ]
  },
  {
   "cell_type": "code",
   "execution_count": 14,
   "metadata": {},
   "outputs": [
    {
     "name": "stdout",
     "output_type": "stream",
     "text": [
      ">chr1\n",
      "ACGT\n",
      ">chr2\n",
      "TCGA\n"
     ]
    }
   ],
   "source": [
    "print(rgdb.fasta_fmt(rgdb.refget(checksum)))"
   ]
  },
  {
   "cell_type": "markdown",
   "metadata": {},
   "source": [
    "You can limit recursion to get just the checksums for individual sequences, rather than the sequences themselves:"
   ]
  },
  {
   "cell_type": "code",
   "execution_count": 15,
   "metadata": {},
   "outputs": [
    {
     "data": {
      "text/plain": [
       "OrderedDict([('chr1', '68a178f7c740c5c240aa67ba41843b119d3bf9f8b0f0ac36'),\n",
       "             ('chr2', '3912dddce432f3085c6b4f72a644c4c4c73f07215a9679ce')])"
      ]
     },
     "execution_count": 15,
     "metadata": {},
     "output_type": "execute_result"
    }
   ],
   "source": [
    "rgdb.refget(checksum, reclimit=1)"
   ]
  },
  {
   "cell_type": "markdown",
   "metadata": {},
   "source": [
    "The individual sequences are also retrievable independently because each sequence from the fasta file is stored as a primary unit. Test some single-sequence lookups from the database:"
   ]
  },
  {
   "cell_type": "code",
   "execution_count": 16,
   "metadata": {},
   "outputs": [
    {
     "data": {
      "text/plain": [
       "'ACGT'"
      ]
     },
     "execution_count": 16,
     "metadata": {},
     "output_type": "execute_result"
    }
   ],
   "source": [
    "rgdb.refget(content[\"chr1\"])"
   ]
  },
  {
   "cell_type": "code",
   "execution_count": 17,
   "metadata": {},
   "outputs": [
    {
     "data": {
      "text/plain": [
       "'ACGT'"
      ]
     },
     "execution_count": 17,
     "metadata": {},
     "output_type": "execute_result"
    }
   ],
   "source": [
    "rgdb.refget(trunc512_digest('ACGT'))"
   ]
  },
  {
   "cell_type": "markdown",
   "metadata": {},
   "source": [
    "Now if we kill that object and create a new object using the same redis back-end, the data persists because it's stored in the redis back-end:"
   ]
  },
  {
   "cell_type": "code",
   "execution_count": 18,
   "metadata": {},
   "outputs": [
    {
     "data": {
      "text/plain": [
       "OrderedDict([('chr1', 'ACGT'), ('chr2', 'TCGA')])"
      ]
     },
     "execution_count": 18,
     "metadata": {},
     "output_type": "execute_result"
    }
   ],
   "source": [
    "rgdb = None\n",
    "rgdb = refget.RefDB(refget.RedisDict())\n",
    "rgdb.refget(checksum)"
   ]
  },
  {
   "cell_type": "markdown",
   "metadata": {},
   "source": [
    "## Comparing sequence collections\n",
    "\n",
    "We may be interested in if collections have the same sequences in different order, or with different names. The `compare` function can provide this information. Let's load an example that adds another sequence:"
   ]
  },
  {
   "cell_type": "code",
   "execution_count": 19,
   "metadata": {},
   "outputs": [],
   "source": [
    "fa_file = \"demo_fasta/demo2.fa\"\n",
    "checksum2, content2 = rgdb.load_fasta(fa_file)"
   ]
  },
  {
   "cell_type": "code",
   "execution_count": 20,
   "metadata": {},
   "outputs": [
    {
     "data": {
      "text/plain": [
       "OrderedDict([('chr1', 'ACGT'), ('chr2', 'TCGA'), ('chrX', 'TTCCGGAA')])"
      ]
     },
     "execution_count": 20,
     "metadata": {},
     "output_type": "execute_result"
    }
   ],
   "source": [
    "rgdb.refget(checksum2)"
   ]
  },
  {
   "cell_type": "code",
   "execution_count": 21,
   "metadata": {},
   "outputs": [
    {
     "data": {
      "text/plain": [
       "OrderedDict([('chr1', 'ACGT'), ('chr2', 'TCGA')])"
      ]
     },
     "execution_count": 21,
     "metadata": {},
     "output_type": "execute_result"
    }
   ],
   "source": [
    "rgdb.refget(checksum)"
   ]
  },
  {
   "cell_type": "code",
   "execution_count": 23,
   "metadata": {},
   "outputs": [
    {
     "data": {
      "text/plain": [
       "'A is a sequence-level subset of B'"
      ]
     },
     "execution_count": 23,
     "metadata": {},
     "output_type": "execute_result"
    }
   ],
   "source": [
    "rgdb.compare(checksum, checksum2)"
   ]
  },
  {
   "cell_type": "code",
   "execution_count": 45,
   "metadata": {},
   "outputs": [
    {
     "data": {
      "text/plain": [
       "OrderedDict([('chr1', 'ACGT'), ('chrX', 'TTCCGGAA')])"
      ]
     },
     "execution_count": 45,
     "metadata": {},
     "output_type": "execute_result"
    }
   ],
   "source": [
    "fa_file = \"demo_fasta/demo3.fa\"\n",
    "checksum3, content3 = rgdb.load_fasta(fa_file)\n",
    "rgdb.refget(checksum3)"
   ]
  },
  {
   "cell_type": "code",
   "execution_count": 46,
   "metadata": {},
   "outputs": [
    {
     "data": {
      "text/plain": [
       "'A and B share some sequences'"
      ]
     },
     "execution_count": 46,
     "metadata": {},
     "output_type": "execute_result"
    }
   ],
   "source": [
    "rgdb.compare(checksum, checksum3)"
   ]
  },
  {
   "cell_type": "code",
   "execution_count": 47,
   "metadata": {},
   "outputs": [
    {
     "data": {
      "text/plain": [
       "OrderedDict([('chrX', 'TTCCGGAA')])"
      ]
     },
     "execution_count": 47,
     "metadata": {},
     "output_type": "execute_result"
    }
   ],
   "source": [
    "fa_file = \"demo_fasta/demo4.fa\"\n",
    "checksum4, content4 = rgdb.load_fasta(fa_file)\n",
    "rgdb.refget(checksum4)"
   ]
  },
  {
   "cell_type": "code",
   "execution_count": 48,
   "metadata": {},
   "outputs": [
    {
     "data": {
      "text/plain": [
       "'No sequences shared'"
      ]
     },
     "execution_count": 48,
     "metadata": {},
     "output_type": "execute_result"
    }
   ],
   "source": [
    "rgdb.compare(checksum, checksum4)"
   ]
  },
  {
   "cell_type": "code",
   "execution_count": 34,
   "metadata": {},
   "outputs": [
    {
     "data": {
      "text/plain": [
       "'B is a sequence-level subset of A'"
      ]
     },
     "execution_count": 34,
     "metadata": {},
     "output_type": "execute_result"
    }
   ],
   "source": [
    "rgdb.compare(checksum2, checksum4)"
   ]
  },
  {
   "cell_type": "code",
   "execution_count": 49,
   "metadata": {},
   "outputs": [
    {
     "data": {
      "text/plain": [
       "OrderedDict([('chrX', 'TTCCGGAA'), ('chr1', 'ACGT')])"
      ]
     },
     "execution_count": 49,
     "metadata": {},
     "output_type": "execute_result"
    }
   ],
   "source": [
    "fa_file = \"demo_fasta/demo5.fa\"\n",
    "checksum5, content5 = rgdb.load_fasta(fa_file)\n",
    "rgdb.refget(checksum5)"
   ]
  },
  {
   "cell_type": "code",
   "execution_count": 50,
   "metadata": {},
   "outputs": [
    {
     "data": {
      "text/plain": [
       "'A and B share some sequences'"
      ]
     },
     "execution_count": 50,
     "metadata": {},
     "output_type": "execute_result"
    }
   ],
   "source": [
    "rgdb.compare(checksum, checksum5)"
   ]
  },
  {
   "cell_type": "code",
   "execution_count": 51,
   "metadata": {},
   "outputs": [
    {
     "data": {
      "text/plain": [
       "'Sequence-level identical, order mismatch'"
      ]
     },
     "execution_count": 51,
     "metadata": {},
     "output_type": "execute_result"
    }
   ],
   "source": [
    "rgdb.compare(checksum3, checksum5)"
   ]
  },
  {
   "cell_type": "code",
   "execution_count": 52,
   "metadata": {},
   "outputs": [
    {
     "data": {
      "text/plain": [
       "OrderedDict([('1', 'ACGT'), ('2', 'TCGA'), ('X', 'TTCCGGAA')])"
      ]
     },
     "execution_count": 52,
     "metadata": {},
     "output_type": "execute_result"
    }
   ],
   "source": [
    "fa_file = \"demo_fasta/demo6.fa\"\n",
    "checksum6, content6 = rgdb.load_fasta(fa_file)\n",
    "rgdb.refget(checksum6)"
   ]
  },
  {
   "cell_type": "code",
   "execution_count": 53,
   "metadata": {},
   "outputs": [
    {
     "data": {
      "text/plain": [
       "'Sequence-level identical, names mismatch'"
      ]
     },
     "execution_count": 53,
     "metadata": {},
     "output_type": "execute_result"
    }
   ],
   "source": [
    "rgdb.compare(checksum2, checksum6)"
   ]
  },
  {
   "cell_type": "markdown",
   "metadata": {},
   "source": [
    "# 3-layer refget\n",
    "\n",
    "Yes, you can also continue this recursion indefinitely. To demonstrate, let's make a sequence that consists of these 2 fasta files checksums, and load that into the database."
   ]
  },
  {
   "cell_type": "code",
   "execution_count": 24,
   "metadata": {},
   "outputs": [
    {
     "data": {
      "text/plain": [
       "'demo1:fa7f432a0ca2a8bb224562f1c2f091e37937c4b0a5f5acf7;demo2:6f2e5266e233ef82ae4fa15fb621ed2843b19cbb5f099391'"
      ]
     },
     "execution_count": 24,
     "metadata": {},
     "output_type": "execute_result"
    }
   ],
   "source": [
    "layer3seq = \"demo1:{};demo2:{}\".format(checksum, checksum2)\n",
    "layer3seq"
   ]
  },
  {
   "cell_type": "code",
   "execution_count": 25,
   "metadata": {},
   "outputs": [
    {
     "data": {
      "text/plain": [
       "'96b06cb2ef1fd4d8efb6c1d3a2be2415330c8fa77ebafc9d'"
      ]
     },
     "execution_count": 25,
     "metadata": {},
     "output_type": "execute_result"
    }
   ],
   "source": [
    "rgdb.load_seq(layer3seq)"
   ]
  },
  {
   "cell_type": "markdown",
   "metadata": {},
   "source": [
    "Can we retreieve it? You bet! At any recursion level:"
   ]
  },
  {
   "cell_type": "code",
   "execution_count": 26,
   "metadata": {},
   "outputs": [
    {
     "data": {
      "text/plain": [
       "OrderedDict([('demo1', OrderedDict([('chr1', 'ACGT'), ('chr2', 'TCGA')])),\n",
       "             ('demo2',\n",
       "              OrderedDict([('chr1', 'ACGT'),\n",
       "                           ('chr2', 'TCGA'),\n",
       "                           ('chrX', 'TTCCGGAA')]))])"
      ]
     },
     "execution_count": 26,
     "metadata": {},
     "output_type": "execute_result"
    }
   ],
   "source": [
    "rgdb.refget(\"96b06cb2ef1fd4d8efb6c1d3a2be2415330c8fa77ebafc9d\")"
   ]
  },
  {
   "cell_type": "code",
   "execution_count": 27,
   "metadata": {},
   "outputs": [
    {
     "data": {
      "text/plain": [
       "OrderedDict([('demo1', 'fa7f432a0ca2a8bb224562f1c2f091e37937c4b0a5f5acf7'),\n",
       "             ('demo2', '6f2e5266e233ef82ae4fa15fb621ed2843b19cbb5f099391')])"
      ]
     },
     "execution_count": 27,
     "metadata": {},
     "output_type": "execute_result"
    }
   ],
   "source": [
    "rgdb.refget(\"96b06cb2ef1fd4d8efb6c1d3a2be2415330c8fa77ebafc9d\", reclimit=1)"
   ]
  },
  {
   "cell_type": "code",
   "execution_count": 28,
   "metadata": {},
   "outputs": [
    {
     "data": {
      "text/plain": [
       "OrderedDict([('demo1',\n",
       "              OrderedDict([('chr1',\n",
       "                            '68a178f7c740c5c240aa67ba41843b119d3bf9f8b0f0ac36'),\n",
       "                           ('chr2',\n",
       "                            '3912dddce432f3085c6b4f72a644c4c4c73f07215a9679ce')])),\n",
       "             ('demo2',\n",
       "              OrderedDict([('chr1',\n",
       "                            '68a178f7c740c5c240aa67ba41843b119d3bf9f8b0f0ac36'),\n",
       "                           ('chr2',\n",
       "                            '3912dddce432f3085c6b4f72a644c4c4c73f07215a9679ce'),\n",
       "                           ('chrX',\n",
       "                            'ef7dd6215b2dabc81d0a5eb0f0d84a739b0674de92679f88')]))])"
      ]
     },
     "execution_count": 28,
     "metadata": {},
     "output_type": "execute_result"
    }
   ],
   "source": [
    "rgdb.refget(\"96b06cb2ef1fd4d8efb6c1d3a2be2415330c8fa77ebafc9d\", reclimit=2)"
   ]
  }
 ],
 "metadata": {
  "kernelspec": {
   "display_name": "Python 3",
   "language": "python",
   "name": "python3"
  },
  "language_info": {
   "codemirror_mode": {
    "name": "ipython",
    "version": 3
   },
   "file_extension": ".py",
   "mimetype": "text/x-python",
   "name": "python",
   "nbconvert_exporter": "python",
   "pygments_lexer": "ipython3",
   "version": "3.7.3"
  }
 },
 "nbformat": 4,
 "nbformat_minor": 2
}
